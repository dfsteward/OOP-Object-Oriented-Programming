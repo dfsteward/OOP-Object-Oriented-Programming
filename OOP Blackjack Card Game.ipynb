{
 "cells": [
  {
   "cell_type": "markdown",
   "metadata": {},
   "source": [
    "## Overview\n",
    "\n",
    "The below program is a simulation of the card game [Blackjack](https://en.wikipedia.org/wiki/Blackjack), and is an assignment from an [Udemy Python Programming class](https://www.udemy.com/course/complete-python-bootcamp/learn/lecture/20205160?start=0#overview).\n",
    "\n",
    "## Problem Statement\n",
    "This is intended to be a demonstration of Object Oriented Programing and serve as reference material.\n"
   ]
  },
  {
   "cell_type": "markdown",
   "metadata": {},
   "source": [
    "## Table of Contents  \n",
    "\n",
    "* [Class & Methods Definitions](#class_def)\n",
    "* [Game Logic](#gamelogic)"
   ]
  },
  {
   "cell_type": "markdown",
   "metadata": {},
   "source": [
    "<a class=\"anchor\" id=\"class_def\"></a>\n",
    "## Class & Methods Definitions"
   ]
  },
  {
   "cell_type": "markdown",
   "metadata": {},
   "source": [
    "### Card Class\n",
    "Create card objects; each card object having a suit, rank, and value\n",
    "\n",
    "A 'card' is a suit & rank combination, the 'value' is the numerical value associated to the rank."
   ]
  },
  {
   "cell_type": "markdown",
   "metadata": {},
   "source": [
    "### Deck Class\n",
    "Will instantiate a new 'deck'; create all 52 card objects & 'hold' a list of Card objects  \n",
    "    \n",
    "**shuffle()** method will 'shuffle' the Deck through a method call ('random' library shuffle() function)\n",
    "    \n",
    "**deal_one()** method will deal cards from the Deck object (pop() method from cards list)"
   ]
  },
  {
   "cell_type": "markdown",
   "metadata": {},
   "source": [
    "### Dealer Class\n",
    "Will hold the dealers current list of cards (card objects)\n",
    "    \n",
    "**add_cards()** Will add one card to the Dealers hand\n",
    "   "
   ]
  },
  {
   "cell_type": "markdown",
   "metadata": {},
   "source": [
    "### Player Class\n",
    "Will hold the players current list of cards (card objects)\n",
    "    \n",
    "**add_cards()** Will add one card to the players hand\n",
    " "
   ]
  },
  {
   "cell_type": "markdown",
   "metadata": {},
   "source": [
    "<a class=\"anchor\" id=\"gamelogic\"></a>\n",
    "## Game Logic"
   ]
  },
  {
   "cell_type": "markdown",
   "metadata": {},
   "source": [
    "    1) Create the deck\n",
    "    2) Shuffle the deck\n",
    "    3) Deal 2 cards to player and dealer\n",
    "    4) Accept input from player to 'HIT' or 'STAY'\n",
    "    5) Deal cards to dealer as defined by the rules\n",
    "    6) Declare winner"
   ]
  },
  {
   "cell_type": "code",
   "execution_count": 14,
   "metadata": {},
   "outputs": [
    {
     "name": "stdout",
     "output_type": "stream",
     "text": [
      "You have 9, Dealer shows a Nine of Spades, would you like to HIT or STAY?HIT\n",
      "You have 19, Dealer shows a Nine of Spades, would you like to HIT or STAY?STAY\n",
      "Devins turn is over, stays on 19.\n",
      "Dealer busts with 22, Devin wins with 19\n"
     ]
    }
   ],
   "source": [
    "import random \n",
    "\n",
    "suits = ('Hearts','Diamonds','Spades','Clubs') #best to use tuple, not going to change\n",
    "ranks = ('Two','Three','Four','Five','Six','Seven','Eight','Nine','Ten','Jack','Queen','King','Ace')\n",
    "values = {'Two':2,'Three':3,'Four':4,'Five':5,'Six':6,'Seven':7,'Eight':8,'Nine':9,'Ten':10,'Jack':10,'Queen':10,'King':10,'Ace':11}\n",
    "\n",
    "class Card():\n",
    "    def __init__(self,suit,rank):\n",
    "        self.suit = suit\n",
    "        self.rank = rank\n",
    "        self.value= values[rank] #self.value retrieved from value dict. above, using user specified attribute 'rank'\n",
    "        \n",
    "    def __str__(self):\n",
    "        return self.rank +\" of \"+ self.suit\n",
    "    \n",
    "class Deck():\n",
    "    \n",
    "    def __init__(self):\n",
    "        #upon executing (initializing), create a new deck of cards:\n",
    "        #we want objects for all 52 cards\n",
    "        #so we start with an empty list\n",
    "        self.all_cards=[]\n",
    "        \n",
    "        #iterate thorough all suites, and ranks\n",
    "        for suit in suits:\n",
    "            for rank in ranks:\n",
    "                #use the 'Card' class to create an object for each 'card' (suite and rank combination)\n",
    "                created_card = Card(suit,rank)\n",
    "                #append card (created card) to deck (all_cards)\n",
    "                #NOTE: this 'deck' of cards is in order of how the suit and rank tuples were appened to the list (ex, heart two, heart three, etc.)\n",
    "                self.all_cards.append(created_card)\n",
    "\n",
    "    def shuffle(self): #create 'shuffle' method to shuffle the deck (by default the 'deck' is in order of how it was created (suit and rank tuples append to list))\n",
    "        #'random' doesn't return anything, only applies 'in place', so to 'shuffle' our deck we need to do so on the object\n",
    "        random.shuffle(self.all_cards)\n",
    "        \n",
    "    def deal_one(self): #method for removing a 'card' from the 'deck' (item from the list)\n",
    "        return self.all_cards.pop()\n",
    "                \n",
    "class Dealer():\n",
    "    def __init__(self,name):\n",
    "        self.name = name\n",
    "        self.dealer_hand = []\n",
    "        self.hand_score = 0\n",
    "            \n",
    "    def add_cards(self,new_cards):\n",
    "        self.dealer_hand.append(new_cards)\n",
    "        self.hand_score += self.dealer_hand[-1].value\n",
    "          \n",
    "    def __str__(self):\n",
    "        return f'The Black Jack dealers name is {self.name}, and has {len(self.dealer_hand)} cards that sum to {self.hand_score}.'\n",
    "\n",
    "class Player():\n",
    "    \n",
    "    def __init__(self,name):\n",
    "        self.name = name\n",
    "        self.all_cards = []\n",
    "        self.hand_score = 0\n",
    "    \n",
    "    def add_cards(self,new_cards):\n",
    "        self.all_cards.append(new_cards)\n",
    "        self.hand_score += self.all_cards[-1].value\n",
    "            \n",
    "    def __str__(self):\n",
    "        return f'Player ones name is {self.name}, Player one has {len(self.all_cards)} cards that sum to {self.hand_score}.'\n",
    "\n",
    "#Instantiate Player, Dealer, Deck of Cards, and shuffle Deck\n",
    "player_one = Player('Devin')\n",
    "dealer = Dealer('Pete')\n",
    "new_deck = Deck()\n",
    "new_deck.shuffle()\n",
    "\n",
    "#Deal 2 cards to player, and 2 cards to dealer\n",
    "for x in range (2):\n",
    "        player_one.add_cards(new_deck.deal_one())\n",
    "        dealer.add_cards(new_deck.deal_one())\n",
    "\n",
    "#PLAYERS TURN\n",
    "if player_one.hand_score <= 21:\n",
    "    player_turn = True\n",
    "else:\n",
    "    player_turn = False\n",
    "\n",
    "while player_turn:\n",
    "\n",
    "        if player_one.hand_score > 21:\n",
    "            print(f'Game Over, {player_one.name} busts with {player_one.hand_score}')\n",
    "            player_turn = False\n",
    "            break\n",
    "            \n",
    "        elif player_one.hand_score == 21:\n",
    "            print(f'Blackjack, {player_one.name} Wins!')\n",
    "            break\n",
    "\n",
    "        else:\n",
    "            ans = input(f'You have {player_one.hand_score}, Dealer shows a {dealer.dealer_hand[0]}, would you like to HIT or STAY?')\n",
    "            if ans == 'HIT':\n",
    "                player_one.add_cards(new_deck.deal_one())\n",
    "                continue\n",
    "                \n",
    "            elif ans =='STAY':\n",
    "                player_turn = False\n",
    "                print(f'{player_one.name}s turn is over, stays on {player_one.hand_score}.')\n",
    "                break\n",
    "\n",
    "#DEALER TURN\n",
    "#This loop executes after human player turns are complete; so human has a score <21 (if had 21 or higer then game would end prior to this)\n",
    "if player_one.hand_score == 21:\n",
    "    print('End of Game')\n",
    "    dealer_turn=False\n",
    "elif player_one.hand_score <21 and dealer.hand_score <= 21:\n",
    "    dealer_turn = True\n",
    "else:\n",
    "    dealer_turn = False\n",
    "    \n",
    "while dealer_turn == True:\n",
    "    \n",
    "    if dealer.hand_score > 21:\n",
    "        print(f'Dealer busts with {dealer.hand_score}, {player_one.name} wins with {player_one.hand_score}') \n",
    "        break\n",
    "        \n",
    "    elif dealer.hand_score == 21:\n",
    "        print('Blackjack, Dealer Wins')\n",
    "        break\n",
    "    \n",
    "    elif (21-player_one.hand_score)>(21-dealer.hand_score):\n",
    "        print(f'Dealer Wins with {dealer.hand_score}, {player_one.name} had {player_one.hand_score}')\n",
    "        break\n",
    "        \n",
    "    elif (21-player_one.hand_score)<=(21-dealer.hand_score):\n",
    "        dealer.add_cards(new_deck.deal_one())\n",
    "        continue\n",
    "        \n"
   ]
  }
 ],
 "metadata": {
  "kernelspec": {
   "display_name": "Python 3",
   "language": "python",
   "name": "python3"
  },
  "language_info": {
   "codemirror_mode": {
    "name": "ipython",
    "version": 3
   },
   "file_extension": ".py",
   "mimetype": "text/x-python",
   "name": "python",
   "nbconvert_exporter": "python",
   "pygments_lexer": "ipython3",
   "version": "3.8.0"
  }
 },
 "nbformat": 4,
 "nbformat_minor": 2
}
